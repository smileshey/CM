{
 "cells": [
  {
   "cell_type": "markdown",
   "id": "5e58f368",
   "metadata": {},
   "source": [
    "# Transportation Data Analyst Take-Home Assignment"
   ]
  },
  {
   "cell_type": "markdown",
   "id": "d87b381c",
   "metadata": {},
   "source": [
    "##### Submitted by Ryan Virgin"
   ]
  },
  {
   "cell_type": "markdown",
   "id": "a1e5a7cf",
   "metadata": {},
   "source": [
    "When a Citymapper team holiday goes tragically wrong, Emily and Gabriel find\n",
    "themselves stranded on a tropical island. They decide to spend their time\n",
    "waiting for rescue by answering the universe's hardest transit questions.\n",
    "With help from some friendly locals, Emily and Gabriel build some things:\n",
    "\n",
    "1. Emily builds The Waterfall Railway: a little train line running along the\n",
    "northern end of the island to Island City.\n",
    "2. Gabriel builds Banana Buses, which connect various parts of the island to\n",
    "the beach.\n",
    "3. Together, they build a navigation app called IslandMapper, to help\n",
    "themselves and their new island friends get around."
   ]
  },
  {
   "cell_type": "markdown",
   "id": "de333157",
   "metadata": {},
   "source": [
    "**Below I will evaluate the provided data and provide my own responses to the provided issues with the transit system described above**"
   ]
  },
  {
   "cell_type": "markdown",
   "id": "0ad27f65",
   "metadata": {},
   "source": [
    "#### Library Imports"
   ]
  },
  {
   "cell_type": "code",
   "execution_count": 3,
   "id": "67575e6a",
   "metadata": {},
   "outputs": [],
   "source": [
    "import numpy as np\n",
    "import pandas as pd\n",
    "import gtfs_kit as gk\n",
    "\n",
    "import matplotlib.pyplot as plt\n",
    "\n",
    "import geopandas as gpd\n",
    "from shapely.geometry import Point, LineString\n",
    "from matplotlib.lines import Line2D\n",
    "from IPython.display import Image"
   ]
  },
  {
   "cell_type": "markdown",
   "id": "65e8a96d",
   "metadata": {},
   "source": [
    "#### Data Import"
   ]
  },
  {
   "cell_type": "code",
   "execution_count": 4,
   "id": "dae0ee1e",
   "metadata": {},
   "outputs": [],
   "source": [
    "path = 'Data/Data/'"
   ]
  },
  {
   "cell_type": "code",
   "execution_count": 5,
   "id": "81a54eaa",
   "metadata": {},
   "outputs": [],
   "source": [
    "feed = gk.read_feed(path, dist_units='mi')"
   ]
  },
  {
   "cell_type": "code",
   "execution_count": 6,
   "id": "dd666d23",
   "metadata": {},
   "outputs": [
    {
     "data": {
      "text/html": [
       "<div>\n",
       "<style scoped>\n",
       "    .dataframe tbody tr th:only-of-type {\n",
       "        vertical-align: middle;\n",
       "    }\n",
       "\n",
       "    .dataframe tbody tr th {\n",
       "        vertical-align: top;\n",
       "    }\n",
       "\n",
       "    .dataframe thead th {\n",
       "        text-align: right;\n",
       "    }\n",
       "</style>\n",
       "<table border=\"1\" class=\"dataframe\">\n",
       "  <thead>\n",
       "    <tr style=\"text-align: right;\">\n",
       "      <th></th>\n",
       "      <th>type</th>\n",
       "      <th>message</th>\n",
       "      <th>table</th>\n",
       "      <th>rows</th>\n",
       "    </tr>\n",
       "  </thead>\n",
       "  <tbody>\n",
       "    <tr>\n",
       "      <th>0</th>\n",
       "      <td>warning</td>\n",
       "      <td>Feed expired</td>\n",
       "      <td>calendar</td>\n",
       "      <td>[]</td>\n",
       "    </tr>\n",
       "  </tbody>\n",
       "</table>\n",
       "</div>"
      ],
      "text/plain": [
       "      type       message     table rows\n",
       "0  warning  Feed expired  calendar   []"
      ]
     },
     "execution_count": 6,
     "metadata": {},
     "output_type": "execute_result"
    }
   ],
   "source": [
    "feed.validate()"
   ]
  },
  {
   "cell_type": "markdown",
   "id": "623af095",
   "metadata": {},
   "source": [
    "## What do the data look like?"
   ]
  },
  {
   "cell_type": "code",
   "execution_count": 7,
   "id": "73b3f505",
   "metadata": {},
   "outputs": [
    {
     "data": {
      "text/html": [
       "<div>\n",
       "<style scoped>\n",
       "    .dataframe tbody tr th:only-of-type {\n",
       "        vertical-align: middle;\n",
       "    }\n",
       "\n",
       "    .dataframe tbody tr th {\n",
       "        vertical-align: top;\n",
       "    }\n",
       "\n",
       "    .dataframe thead th {\n",
       "        text-align: right;\n",
       "    }\n",
       "</style>\n",
       "<table border=\"1\" class=\"dataframe\">\n",
       "  <thead>\n",
       "    <tr style=\"text-align: right;\">\n",
       "      <th></th>\n",
       "      <th>stop_id</th>\n",
       "      <th>stop_name</th>\n",
       "      <th>stop_lat</th>\n",
       "      <th>stop_lon</th>\n",
       "    </tr>\n",
       "  </thead>\n",
       "  <tbody>\n",
       "    <tr>\n",
       "      <th>0</th>\n",
       "      <td>Stop_IslandCity</td>\n",
       "      <td>Island City Central Station</td>\n",
       "      <td>49.712802</td>\n",
       "      <td>-179.280571</td>\n",
       "    </tr>\n",
       "    <tr>\n",
       "      <th>1</th>\n",
       "      <td>Stop_BeachNorth</td>\n",
       "      <td>The Beach (North) Rail Station</td>\n",
       "      <td>49.493027</td>\n",
       "      <td>-178.975434</td>\n",
       "    </tr>\n",
       "    <tr>\n",
       "      <th>2</th>\n",
       "      <td>Stop_HauntedJungle</td>\n",
       "      <td>The Haunted Jungle</td>\n",
       "      <td>49.462797</td>\n",
       "      <td>179.866938</td>\n",
       "    </tr>\n",
       "    <tr>\n",
       "      <th>3</th>\n",
       "      <td>Stop_BambooCross</td>\n",
       "      <td>Bamboo Crossroads</td>\n",
       "      <td>49.433159</td>\n",
       "      <td>-179.115743</td>\n",
       "    </tr>\n",
       "    <tr>\n",
       "      <th>4</th>\n",
       "      <td>Stop_BeachSouth</td>\n",
       "      <td>The Beach (South) Bus Station</td>\n",
       "      <td>49.403503</td>\n",
       "      <td>-178.966984</td>\n",
       "    </tr>\n",
       "  </tbody>\n",
       "</table>\n",
       "</div>"
      ],
      "text/plain": [
       "              stop_id                       stop_name   stop_lat    stop_lon\n",
       "0     Stop_IslandCity     Island City Central Station  49.712802 -179.280571\n",
       "1     Stop_BeachNorth  The Beach (North) Rail Station  49.493027 -178.975434\n",
       "2  Stop_HauntedJungle              The Haunted Jungle  49.462797  179.866938\n",
       "3    Stop_BambooCross               Bamboo Crossroads  49.433159 -179.115743\n",
       "4     Stop_BeachSouth   The Beach (South) Bus Station  49.403503 -178.966984"
      ]
     },
     "execution_count": 7,
     "metadata": {},
     "output_type": "execute_result"
    }
   ],
   "source": [
    "feed.stops"
   ]
  },
  {
   "cell_type": "code",
   "execution_count": 8,
   "id": "94243c27",
   "metadata": {},
   "outputs": [
    {
     "data": {
      "text/html": [
       "<div>\n",
       "<style scoped>\n",
       "    .dataframe tbody tr th:only-of-type {\n",
       "        vertical-align: middle;\n",
       "    }\n",
       "\n",
       "    .dataframe tbody tr th {\n",
       "        vertical-align: top;\n",
       "    }\n",
       "\n",
       "    .dataframe thead th {\n",
       "        text-align: right;\n",
       "    }\n",
       "</style>\n",
       "<table border=\"1\" class=\"dataframe\">\n",
       "  <thead>\n",
       "    <tr style=\"text-align: right;\">\n",
       "      <th></th>\n",
       "      <th>trip_id</th>\n",
       "      <th>arrival_time</th>\n",
       "      <th>departure_time</th>\n",
       "      <th>stop_id</th>\n",
       "      <th>stop_sequence</th>\n",
       "    </tr>\n",
       "  </thead>\n",
       "  <tbody>\n",
       "    <tr>\n",
       "      <th>0</th>\n",
       "      <td>Waterfall_0001</td>\n",
       "      <td>14:00:00</td>\n",
       "      <td>14:00:00</td>\n",
       "      <td>Stop_BeachNorth</td>\n",
       "      <td>1</td>\n",
       "    </tr>\n",
       "    <tr>\n",
       "      <th>1</th>\n",
       "      <td>Waterfall_0001</td>\n",
       "      <td>14:15:00</td>\n",
       "      <td>14:15:00</td>\n",
       "      <td>Stop_IslandCity</td>\n",
       "      <td>2</td>\n",
       "    </tr>\n",
       "    <tr>\n",
       "      <th>2</th>\n",
       "      <td>Waterfall_0003</td>\n",
       "      <td>14:15:00</td>\n",
       "      <td>14:15:00</td>\n",
       "      <td>Stop_BeachNorth</td>\n",
       "      <td>1</td>\n",
       "    </tr>\n",
       "    <tr>\n",
       "      <th>3</th>\n",
       "      <td>Waterfall_0003</td>\n",
       "      <td>14:30:00</td>\n",
       "      <td>14:30:00</td>\n",
       "      <td>Stop_IslandCity</td>\n",
       "      <td>2</td>\n",
       "    </tr>\n",
       "    <tr>\n",
       "      <th>4</th>\n",
       "      <td>Waterfall_0005</td>\n",
       "      <td>14:30:00</td>\n",
       "      <td>14:30:00</td>\n",
       "      <td>Stop_BeachNorth</td>\n",
       "      <td>1</td>\n",
       "    </tr>\n",
       "  </tbody>\n",
       "</table>\n",
       "</div>"
      ],
      "text/plain": [
       "          trip_id arrival_time departure_time          stop_id  stop_sequence\n",
       "0  Waterfall_0001     14:00:00       14:00:00  Stop_BeachNorth              1\n",
       "1  Waterfall_0001     14:15:00       14:15:00  Stop_IslandCity              2\n",
       "2  Waterfall_0003     14:15:00       14:15:00  Stop_BeachNorth              1\n",
       "3  Waterfall_0003     14:30:00       14:30:00  Stop_IslandCity              2\n",
       "4  Waterfall_0005     14:30:00       14:30:00  Stop_BeachNorth              1"
      ]
     },
     "execution_count": 8,
     "metadata": {},
     "output_type": "execute_result"
    }
   ],
   "source": [
    "feed.stop_times.head(5)"
   ]
  },
  {
   "cell_type": "code",
   "execution_count": 9,
   "id": "bee883e7",
   "metadata": {},
   "outputs": [
    {
     "data": {
      "text/html": [
       "<div>\n",
       "<style scoped>\n",
       "    .dataframe tbody tr th:only-of-type {\n",
       "        vertical-align: middle;\n",
       "    }\n",
       "\n",
       "    .dataframe tbody tr th {\n",
       "        vertical-align: top;\n",
       "    }\n",
       "\n",
       "    .dataframe thead th {\n",
       "        text-align: right;\n",
       "    }\n",
       "</style>\n",
       "<table border=\"1\" class=\"dataframe\">\n",
       "  <thead>\n",
       "    <tr style=\"text-align: right;\">\n",
       "      <th></th>\n",
       "      <th>agency_id</th>\n",
       "      <th>agency_name</th>\n",
       "      <th>agency_url</th>\n",
       "      <th>agency_timezone</th>\n",
       "    </tr>\n",
       "  </thead>\n",
       "  <tbody>\n",
       "    <tr>\n",
       "      <th>0</th>\n",
       "      <td>WaterfallRailway</td>\n",
       "      <td>The Waterfall Railway</td>\n",
       "      <td>https://citymapper.com/</td>\n",
       "      <td>America/Adak</td>\n",
       "    </tr>\n",
       "    <tr>\n",
       "      <th>1</th>\n",
       "      <td>BananaBuses</td>\n",
       "      <td>Banana Bus Company</td>\n",
       "      <td>https://citymapper.com/</td>\n",
       "      <td>America/Adak</td>\n",
       "    </tr>\n",
       "  </tbody>\n",
       "</table>\n",
       "</div>"
      ],
      "text/plain": [
       "          agency_id            agency_name               agency_url  \\\n",
       "0  WaterfallRailway  The Waterfall Railway  https://citymapper.com/   \n",
       "1       BananaBuses     Banana Bus Company  https://citymapper.com/   \n",
       "\n",
       "  agency_timezone  \n",
       "0    America/Adak  \n",
       "1    America/Adak  "
      ]
     },
     "execution_count": 9,
     "metadata": {},
     "output_type": "execute_result"
    }
   ],
   "source": [
    "feed.agency"
   ]
  },
  {
   "cell_type": "code",
   "execution_count": 10,
   "id": "f8d35169",
   "metadata": {},
   "outputs": [
    {
     "data": {
      "text/html": [
       "<div>\n",
       "<style scoped>\n",
       "    .dataframe tbody tr th:only-of-type {\n",
       "        vertical-align: middle;\n",
       "    }\n",
       "\n",
       "    .dataframe tbody tr th {\n",
       "        vertical-align: top;\n",
       "    }\n",
       "\n",
       "    .dataframe thead th {\n",
       "        text-align: right;\n",
       "    }\n",
       "</style>\n",
       "<table border=\"1\" class=\"dataframe\">\n",
       "  <thead>\n",
       "    <tr style=\"text-align: right;\">\n",
       "      <th></th>\n",
       "      <th>service_id</th>\n",
       "      <th>monday</th>\n",
       "      <th>tuesday</th>\n",
       "      <th>wednesday</th>\n",
       "      <th>thursday</th>\n",
       "      <th>friday</th>\n",
       "      <th>saturday</th>\n",
       "      <th>sunday</th>\n",
       "      <th>start_date</th>\n",
       "      <th>end_date</th>\n",
       "    </tr>\n",
       "  </thead>\n",
       "  <tbody>\n",
       "    <tr>\n",
       "      <th>0</th>\n",
       "      <td>Weekdays</td>\n",
       "      <td>1</td>\n",
       "      <td>1</td>\n",
       "      <td>1</td>\n",
       "      <td>1</td>\n",
       "      <td>1</td>\n",
       "      <td>0</td>\n",
       "      <td>0</td>\n",
       "      <td>20170101</td>\n",
       "      <td>20220101</td>\n",
       "    </tr>\n",
       "    <tr>\n",
       "      <th>1</th>\n",
       "      <td>Weekends</td>\n",
       "      <td>0</td>\n",
       "      <td>0</td>\n",
       "      <td>0</td>\n",
       "      <td>0</td>\n",
       "      <td>0</td>\n",
       "      <td>1</td>\n",
       "      <td>1</td>\n",
       "      <td>20170101</td>\n",
       "      <td>20220101</td>\n",
       "    </tr>\n",
       "  </tbody>\n",
       "</table>\n",
       "</div>"
      ],
      "text/plain": [
       "  service_id  monday  tuesday  wednesday  thursday  friday  saturday  sunday  \\\n",
       "0   Weekdays       1        1          1         1       1         0       0   \n",
       "1   Weekends       0        0          0         0       0         1       1   \n",
       "\n",
       "  start_date  end_date  \n",
       "0   20170101  20220101  \n",
       "1   20170101  20220101  "
      ]
     },
     "execution_count": 10,
     "metadata": {},
     "output_type": "execute_result"
    }
   ],
   "source": [
    "feed.calendar"
   ]
  },
  {
   "cell_type": "code",
   "execution_count": 11,
   "id": "d5ba9a2a",
   "metadata": {},
   "outputs": [
    {
     "data": {
      "text/html": [
       "<div>\n",
       "<style scoped>\n",
       "    .dataframe tbody tr th:only-of-type {\n",
       "        vertical-align: middle;\n",
       "    }\n",
       "\n",
       "    .dataframe tbody tr th {\n",
       "        vertical-align: top;\n",
       "    }\n",
       "\n",
       "    .dataframe thead th {\n",
       "        text-align: right;\n",
       "    }\n",
       "</style>\n",
       "<table border=\"1\" class=\"dataframe\">\n",
       "  <thead>\n",
       "    <tr style=\"text-align: right;\">\n",
       "      <th></th>\n",
       "      <th>trip_id</th>\n",
       "      <th>start_time</th>\n",
       "      <th>end_time</th>\n",
       "      <th>headway_secs</th>\n",
       "    </tr>\n",
       "  </thead>\n",
       "  <tbody>\n",
       "    <tr>\n",
       "      <th>0</th>\n",
       "      <td>Banana_Ban1_1001</td>\n",
       "      <td>14:05:00</td>\n",
       "      <td>14:35:00</td>\n",
       "      <td>600</td>\n",
       "    </tr>\n",
       "    <tr>\n",
       "      <th>1</th>\n",
       "      <td>Banana_Ban1_1002</td>\n",
       "      <td>14:00:00</td>\n",
       "      <td>14:30:00</td>\n",
       "      <td>600</td>\n",
       "    </tr>\n",
       "    <tr>\n",
       "      <th>2</th>\n",
       "      <td>Banana_Ban2_1001</td>\n",
       "      <td>14:05:00</td>\n",
       "      <td>14:35:00</td>\n",
       "      <td>600</td>\n",
       "    </tr>\n",
       "    <tr>\n",
       "      <th>3</th>\n",
       "      <td>Banana_Ban2_1002</td>\n",
       "      <td>14:00:00</td>\n",
       "      <td>14:30:00</td>\n",
       "      <td>600</td>\n",
       "    </tr>\n",
       "  </tbody>\n",
       "</table>\n",
       "</div>"
      ],
      "text/plain": [
       "            trip_id start_time  end_time  headway_secs\n",
       "0  Banana_Ban1_1001   14:05:00  14:35:00           600\n",
       "1  Banana_Ban1_1002   14:00:00  14:30:00           600\n",
       "2  Banana_Ban2_1001   14:05:00  14:35:00           600\n",
       "3  Banana_Ban2_1002   14:00:00  14:30:00           600"
      ]
     },
     "execution_count": 11,
     "metadata": {},
     "output_type": "execute_result"
    }
   ],
   "source": [
    "feed.frequencies"
   ]
  },
  {
   "cell_type": "code",
   "execution_count": 12,
   "id": "e46e223e",
   "metadata": {},
   "outputs": [
    {
     "data": {
      "text/html": [
       "<div>\n",
       "<style scoped>\n",
       "    .dataframe tbody tr th:only-of-type {\n",
       "        vertical-align: middle;\n",
       "    }\n",
       "\n",
       "    .dataframe tbody tr th {\n",
       "        vertical-align: top;\n",
       "    }\n",
       "\n",
       "    .dataframe thead th {\n",
       "        text-align: right;\n",
       "    }\n",
       "</style>\n",
       "<table border=\"1\" class=\"dataframe\">\n",
       "  <thead>\n",
       "    <tr style=\"text-align: right;\">\n",
       "      <th></th>\n",
       "      <th>route_id</th>\n",
       "      <th>agency_id</th>\n",
       "      <th>route_short_name</th>\n",
       "      <th>route_long_name</th>\n",
       "      <th>route_type</th>\n",
       "    </tr>\n",
       "  </thead>\n",
       "  <tbody>\n",
       "    <tr>\n",
       "      <th>0</th>\n",
       "      <td>Waterfall1</td>\n",
       "      <td>WaterfallRailway</td>\n",
       "      <td>WF1</td>\n",
       "      <td>The Beach &lt;-&gt; Island City</td>\n",
       "      <td>2</td>\n",
       "    </tr>\n",
       "    <tr>\n",
       "      <th>1</th>\n",
       "      <td>BananaBus1</td>\n",
       "      <td>BananaBuses</td>\n",
       "      <td>Ban1</td>\n",
       "      <td>The Beach &lt;-&gt; Island City</td>\n",
       "      <td>3</td>\n",
       "    </tr>\n",
       "    <tr>\n",
       "      <th>2</th>\n",
       "      <td>BananaBus2</td>\n",
       "      <td>BananaBuses</td>\n",
       "      <td>Ban2</td>\n",
       "      <td>The Beach &lt;-&gt; The Haunted Jungle</td>\n",
       "      <td>3</td>\n",
       "    </tr>\n",
       "  </tbody>\n",
       "</table>\n",
       "</div>"
      ],
      "text/plain": [
       "     route_id         agency_id route_short_name  \\\n",
       "0  Waterfall1  WaterfallRailway              WF1   \n",
       "1  BananaBus1       BananaBuses             Ban1   \n",
       "2  BananaBus2       BananaBuses             Ban2   \n",
       "\n",
       "                    route_long_name  route_type  \n",
       "0         The Beach <-> Island City           2  \n",
       "1         The Beach <-> Island City           3  \n",
       "2  The Beach <-> The Haunted Jungle           3  "
      ]
     },
     "execution_count": 12,
     "metadata": {},
     "output_type": "execute_result"
    }
   ],
   "source": [
    "feed.routes"
   ]
  },
  {
   "cell_type": "code",
   "execution_count": 13,
   "id": "95acf0f0",
   "metadata": {},
   "outputs": [
    {
     "data": {
      "text/html": [
       "<div>\n",
       "<style scoped>\n",
       "    .dataframe tbody tr th:only-of-type {\n",
       "        vertical-align: middle;\n",
       "    }\n",
       "\n",
       "    .dataframe tbody tr th {\n",
       "        vertical-align: top;\n",
       "    }\n",
       "\n",
       "    .dataframe thead th {\n",
       "        text-align: right;\n",
       "    }\n",
       "</style>\n",
       "<table border=\"1\" class=\"dataframe\">\n",
       "  <thead>\n",
       "    <tr style=\"text-align: right;\">\n",
       "      <th></th>\n",
       "      <th>route_id</th>\n",
       "      <th>service_id</th>\n",
       "      <th>trip_id</th>\n",
       "      <th>trip_headsign</th>\n",
       "    </tr>\n",
       "  </thead>\n",
       "  <tbody>\n",
       "    <tr>\n",
       "      <th>0</th>\n",
       "      <td>Waterfall1</td>\n",
       "      <td>Weekdays</td>\n",
       "      <td>Waterfall_0001</td>\n",
       "      <td>Island City</td>\n",
       "    </tr>\n",
       "    <tr>\n",
       "      <th>1</th>\n",
       "      <td>Waterfall1</td>\n",
       "      <td>Weekdays</td>\n",
       "      <td>Waterfall_0002</td>\n",
       "      <td>The Beach (North)</td>\n",
       "    </tr>\n",
       "    <tr>\n",
       "      <th>2</th>\n",
       "      <td>Waterfall1</td>\n",
       "      <td>Weekdays</td>\n",
       "      <td>Waterfall_0003</td>\n",
       "      <td>Island City</td>\n",
       "    </tr>\n",
       "    <tr>\n",
       "      <th>3</th>\n",
       "      <td>Waterfall1</td>\n",
       "      <td>Weekdays</td>\n",
       "      <td>Waterfall_0004</td>\n",
       "      <td>The Beach (North)</td>\n",
       "    </tr>\n",
       "    <tr>\n",
       "      <th>4</th>\n",
       "      <td>Waterfall1</td>\n",
       "      <td>Weekdays</td>\n",
       "      <td>Waterfall_0005</td>\n",
       "      <td>Island City</td>\n",
       "    </tr>\n",
       "  </tbody>\n",
       "</table>\n",
       "</div>"
      ],
      "text/plain": [
       "     route_id service_id         trip_id      trip_headsign\n",
       "0  Waterfall1   Weekdays  Waterfall_0001        Island City\n",
       "1  Waterfall1   Weekdays  Waterfall_0002  The Beach (North)\n",
       "2  Waterfall1   Weekdays  Waterfall_0003        Island City\n",
       "3  Waterfall1   Weekdays  Waterfall_0004  The Beach (North)\n",
       "4  Waterfall1   Weekdays  Waterfall_0005        Island City"
      ]
     },
     "execution_count": 13,
     "metadata": {},
     "output_type": "execute_result"
    }
   ],
   "source": [
    "feed.trips.head()"
   ]
  },
  {
   "cell_type": "markdown",
   "id": "7c1da314",
   "metadata": {},
   "source": [
    "## Mapping the Data\n",
    "\n",
    "I want to get a clear idea for what the Island looks like and how the stops and routes look spatially. To do this, I'll map it out and see if that helps me build a clearer picture (clearer that the provided drawing)"
   ]
  },
  {
   "cell_type": "markdown",
   "id": "6429f8e3",
   "metadata": {},
   "source": [
    "The dataframes 'stop_times' and 'trips' share the feature 'trip_id'. Let's merge them"
   ]
  },
  {
   "cell_type": "code",
   "execution_count": 14,
   "id": "2db05971",
   "metadata": {},
   "outputs": [
    {
     "data": {
      "text/html": [
       "<div>\n",
       "<style scoped>\n",
       "    .dataframe tbody tr th:only-of-type {\n",
       "        vertical-align: middle;\n",
       "    }\n",
       "\n",
       "    .dataframe tbody tr th {\n",
       "        vertical-align: top;\n",
       "    }\n",
       "\n",
       "    .dataframe thead th {\n",
       "        text-align: right;\n",
       "    }\n",
       "</style>\n",
       "<table border=\"1\" class=\"dataframe\">\n",
       "  <thead>\n",
       "    <tr style=\"text-align: right;\">\n",
       "      <th></th>\n",
       "      <th>trip_id</th>\n",
       "      <th>arrival_time</th>\n",
       "      <th>departure_time</th>\n",
       "      <th>stop_id</th>\n",
       "      <th>stop_sequence</th>\n",
       "      <th>route_id</th>\n",
       "      <th>service_id</th>\n",
       "      <th>trip_headsign</th>\n",
       "    </tr>\n",
       "  </thead>\n",
       "  <tbody>\n",
       "    <tr>\n",
       "      <th>0</th>\n",
       "      <td>Waterfall_0001</td>\n",
       "      <td>14:00:00</td>\n",
       "      <td>14:00:00</td>\n",
       "      <td>Stop_BeachNorth</td>\n",
       "      <td>1</td>\n",
       "      <td>Waterfall1</td>\n",
       "      <td>Weekdays</td>\n",
       "      <td>Island City</td>\n",
       "    </tr>\n",
       "    <tr>\n",
       "      <th>1</th>\n",
       "      <td>Waterfall_0001</td>\n",
       "      <td>14:15:00</td>\n",
       "      <td>14:15:00</td>\n",
       "      <td>Stop_IslandCity</td>\n",
       "      <td>2</td>\n",
       "      <td>Waterfall1</td>\n",
       "      <td>Weekdays</td>\n",
       "      <td>Island City</td>\n",
       "    </tr>\n",
       "    <tr>\n",
       "      <th>2</th>\n",
       "      <td>Waterfall_0003</td>\n",
       "      <td>14:15:00</td>\n",
       "      <td>14:15:00</td>\n",
       "      <td>Stop_BeachNorth</td>\n",
       "      <td>1</td>\n",
       "      <td>Waterfall1</td>\n",
       "      <td>Weekdays</td>\n",
       "      <td>Island City</td>\n",
       "    </tr>\n",
       "  </tbody>\n",
       "</table>\n",
       "</div>"
      ],
      "text/plain": [
       "          trip_id arrival_time departure_time          stop_id  stop_sequence  \\\n",
       "0  Waterfall_0001     14:00:00       14:00:00  Stop_BeachNorth              1   \n",
       "1  Waterfall_0001     14:15:00       14:15:00  Stop_IslandCity              2   \n",
       "2  Waterfall_0003     14:15:00       14:15:00  Stop_BeachNorth              1   \n",
       "\n",
       "     route_id service_id trip_headsign  \n",
       "0  Waterfall1   Weekdays   Island City  \n",
       "1  Waterfall1   Weekdays   Island City  \n",
       "2  Waterfall1   Weekdays   Island City  "
      ]
     },
     "execution_count": 14,
     "metadata": {},
     "output_type": "execute_result"
    }
   ],
   "source": [
    "stop_trip_merge = pd.merge(feed.stop_times, feed.trips, on ='trip_id')\n",
    "stop_trip_merge.head(3)"
   ]
  },
  {
   "cell_type": "markdown",
   "id": "1e667fd9",
   "metadata": {},
   "source": [
    "Now we have an idea of which trips correspond to which stops and at which times. I think we can garner more information by merging this onto the routes df."
   ]
  },
  {
   "cell_type": "code",
   "execution_count": 15,
   "id": "ccc1c08e",
   "metadata": {},
   "outputs": [
    {
     "data": {
      "text/html": [
       "<div>\n",
       "<style scoped>\n",
       "    .dataframe tbody tr th:only-of-type {\n",
       "        vertical-align: middle;\n",
       "    }\n",
       "\n",
       "    .dataframe tbody tr th {\n",
       "        vertical-align: top;\n",
       "    }\n",
       "\n",
       "    .dataframe thead th {\n",
       "        text-align: right;\n",
       "    }\n",
       "</style>\n",
       "<table border=\"1\" class=\"dataframe\">\n",
       "  <thead>\n",
       "    <tr style=\"text-align: right;\">\n",
       "      <th></th>\n",
       "      <th>trip_id</th>\n",
       "      <th>arrival_time</th>\n",
       "      <th>departure_time</th>\n",
       "      <th>stop_id</th>\n",
       "      <th>stop_sequence</th>\n",
       "      <th>route_id</th>\n",
       "      <th>service_id</th>\n",
       "      <th>trip_headsign</th>\n",
       "      <th>agency_id</th>\n",
       "      <th>route_short_name</th>\n",
       "      <th>route_long_name</th>\n",
       "      <th>route_type</th>\n",
       "    </tr>\n",
       "  </thead>\n",
       "  <tbody>\n",
       "    <tr>\n",
       "      <th>0</th>\n",
       "      <td>Waterfall_0001</td>\n",
       "      <td>14:00:00</td>\n",
       "      <td>14:00:00</td>\n",
       "      <td>Stop_BeachNorth</td>\n",
       "      <td>1</td>\n",
       "      <td>Waterfall1</td>\n",
       "      <td>Weekdays</td>\n",
       "      <td>Island City</td>\n",
       "      <td>WaterfallRailway</td>\n",
       "      <td>WF1</td>\n",
       "      <td>The Beach &lt;-&gt; Island City</td>\n",
       "      <td>2</td>\n",
       "    </tr>\n",
       "    <tr>\n",
       "      <th>1</th>\n",
       "      <td>Waterfall_0001</td>\n",
       "      <td>14:15:00</td>\n",
       "      <td>14:15:00</td>\n",
       "      <td>Stop_IslandCity</td>\n",
       "      <td>2</td>\n",
       "      <td>Waterfall1</td>\n",
       "      <td>Weekdays</td>\n",
       "      <td>Island City</td>\n",
       "      <td>WaterfallRailway</td>\n",
       "      <td>WF1</td>\n",
       "      <td>The Beach &lt;-&gt; Island City</td>\n",
       "      <td>2</td>\n",
       "    </tr>\n",
       "    <tr>\n",
       "      <th>2</th>\n",
       "      <td>Waterfall_0003</td>\n",
       "      <td>14:15:00</td>\n",
       "      <td>14:15:00</td>\n",
       "      <td>Stop_BeachNorth</td>\n",
       "      <td>1</td>\n",
       "      <td>Waterfall1</td>\n",
       "      <td>Weekdays</td>\n",
       "      <td>Island City</td>\n",
       "      <td>WaterfallRailway</td>\n",
       "      <td>WF1</td>\n",
       "      <td>The Beach &lt;-&gt; Island City</td>\n",
       "      <td>2</td>\n",
       "    </tr>\n",
       "    <tr>\n",
       "      <th>3</th>\n",
       "      <td>Waterfall_0003</td>\n",
       "      <td>14:30:00</td>\n",
       "      <td>14:30:00</td>\n",
       "      <td>Stop_IslandCity</td>\n",
       "      <td>2</td>\n",
       "      <td>Waterfall1</td>\n",
       "      <td>Weekdays</td>\n",
       "      <td>Island City</td>\n",
       "      <td>WaterfallRailway</td>\n",
       "      <td>WF1</td>\n",
       "      <td>The Beach &lt;-&gt; Island City</td>\n",
       "      <td>2</td>\n",
       "    </tr>\n",
       "    <tr>\n",
       "      <th>4</th>\n",
       "      <td>Waterfall_0005</td>\n",
       "      <td>14:30:00</td>\n",
       "      <td>14:30:00</td>\n",
       "      <td>Stop_BeachNorth</td>\n",
       "      <td>1</td>\n",
       "      <td>Waterfall1</td>\n",
       "      <td>Weekdays</td>\n",
       "      <td>Island City</td>\n",
       "      <td>WaterfallRailway</td>\n",
       "      <td>WF1</td>\n",
       "      <td>The Beach &lt;-&gt; Island City</td>\n",
       "      <td>2</td>\n",
       "    </tr>\n",
       "  </tbody>\n",
       "</table>\n",
       "</div>"
      ],
      "text/plain": [
       "          trip_id arrival_time departure_time          stop_id  stop_sequence  \\\n",
       "0  Waterfall_0001     14:00:00       14:00:00  Stop_BeachNorth              1   \n",
       "1  Waterfall_0001     14:15:00       14:15:00  Stop_IslandCity              2   \n",
       "2  Waterfall_0003     14:15:00       14:15:00  Stop_BeachNorth              1   \n",
       "3  Waterfall_0003     14:30:00       14:30:00  Stop_IslandCity              2   \n",
       "4  Waterfall_0005     14:30:00       14:30:00  Stop_BeachNorth              1   \n",
       "\n",
       "     route_id service_id trip_headsign         agency_id route_short_name  \\\n",
       "0  Waterfall1   Weekdays   Island City  WaterfallRailway              WF1   \n",
       "1  Waterfall1   Weekdays   Island City  WaterfallRailway              WF1   \n",
       "2  Waterfall1   Weekdays   Island City  WaterfallRailway              WF1   \n",
       "3  Waterfall1   Weekdays   Island City  WaterfallRailway              WF1   \n",
       "4  Waterfall1   Weekdays   Island City  WaterfallRailway              WF1   \n",
       "\n",
       "             route_long_name  route_type  \n",
       "0  The Beach <-> Island City           2  \n",
       "1  The Beach <-> Island City           2  \n",
       "2  The Beach <-> Island City           2  \n",
       "3  The Beach <-> Island City           2  \n",
       "4  The Beach <-> Island City           2  "
      ]
     },
     "execution_count": 15,
     "metadata": {},
     "output_type": "execute_result"
    }
   ],
   "source": [
    "stop_route_merge = pd.merge(stop_trip_merge, feed.routes, on = 'route_id')\n",
    "stop_route_merge.head(5)"
   ]
  },
  {
   "cell_type": "code",
   "execution_count": 16,
   "id": "77db8b62",
   "metadata": {},
   "outputs": [],
   "source": [
    "geometry = [Point(xy) for xy in zip(feed.stops.stop_lon, feed.stops.stop_lat)]\n",
    "stops_gdf = gpd.GeoDataFrame(feed.stops, geometry=geometry)"
   ]
  },
  {
   "cell_type": "markdown",
   "id": "4488db18",
   "metadata": {},
   "source": [
    "This adds a geometry feature to the stops df which  we can use to plot the stops. Next, we'll do the same for the routes."
   ]
  },
  {
   "cell_type": "code",
   "execution_count": 17,
   "id": "c360caa2",
   "metadata": {},
   "outputs": [
    {
     "data": {
      "text/html": [
       "<div>\n",
       "<style scoped>\n",
       "    .dataframe tbody tr th:only-of-type {\n",
       "        vertical-align: middle;\n",
       "    }\n",
       "\n",
       "    .dataframe tbody tr th {\n",
       "        vertical-align: top;\n",
       "    }\n",
       "\n",
       "    .dataframe thead th {\n",
       "        text-align: right;\n",
       "    }\n",
       "</style>\n",
       "<table border=\"1\" class=\"dataframe\">\n",
       "  <thead>\n",
       "    <tr style=\"text-align: right;\">\n",
       "      <th></th>\n",
       "      <th>stop_id</th>\n",
       "      <th>stop_name</th>\n",
       "      <th>stop_lat</th>\n",
       "      <th>stop_lon</th>\n",
       "      <th>geometry</th>\n",
       "    </tr>\n",
       "  </thead>\n",
       "  <tbody>\n",
       "    <tr>\n",
       "      <th>0</th>\n",
       "      <td>Stop_IslandCity</td>\n",
       "      <td>Island City Central Station</td>\n",
       "      <td>49.712802</td>\n",
       "      <td>-179.280571</td>\n",
       "      <td>POINT (-179.28057 49.71280)</td>\n",
       "    </tr>\n",
       "    <tr>\n",
       "      <th>1</th>\n",
       "      <td>Stop_BeachNorth</td>\n",
       "      <td>The Beach (North) Rail Station</td>\n",
       "      <td>49.493027</td>\n",
       "      <td>-178.975434</td>\n",
       "      <td>POINT (-178.97543 49.49303)</td>\n",
       "    </tr>\n",
       "    <tr>\n",
       "      <th>2</th>\n",
       "      <td>Stop_HauntedJungle</td>\n",
       "      <td>The Haunted Jungle</td>\n",
       "      <td>49.462797</td>\n",
       "      <td>179.866938</td>\n",
       "      <td>POINT (179.86694 49.46280)</td>\n",
       "    </tr>\n",
       "    <tr>\n",
       "      <th>3</th>\n",
       "      <td>Stop_BambooCross</td>\n",
       "      <td>Bamboo Crossroads</td>\n",
       "      <td>49.433159</td>\n",
       "      <td>-179.115743</td>\n",
       "      <td>POINT (-179.11574 49.43316)</td>\n",
       "    </tr>\n",
       "    <tr>\n",
       "      <th>4</th>\n",
       "      <td>Stop_BeachSouth</td>\n",
       "      <td>The Beach (South) Bus Station</td>\n",
       "      <td>49.403503</td>\n",
       "      <td>-178.966984</td>\n",
       "      <td>POINT (-178.96698 49.40350)</td>\n",
       "    </tr>\n",
       "  </tbody>\n",
       "</table>\n",
       "</div>"
      ],
      "text/plain": [
       "              stop_id                       stop_name   stop_lat    stop_lon  \\\n",
       "0     Stop_IslandCity     Island City Central Station  49.712802 -179.280571   \n",
       "1     Stop_BeachNorth  The Beach (North) Rail Station  49.493027 -178.975434   \n",
       "2  Stop_HauntedJungle              The Haunted Jungle  49.462797  179.866938   \n",
       "3    Stop_BambooCross               Bamboo Crossroads  49.433159 -179.115743   \n",
       "4     Stop_BeachSouth   The Beach (South) Bus Station  49.403503 -178.966984   \n",
       "\n",
       "                      geometry  \n",
       "0  POINT (-179.28057 49.71280)  \n",
       "1  POINT (-178.97543 49.49303)  \n",
       "2   POINT (179.86694 49.46280)  \n",
       "3  POINT (-179.11574 49.43316)  \n",
       "4  POINT (-178.96698 49.40350)  "
      ]
     },
     "execution_count": 17,
     "metadata": {},
     "output_type": "execute_result"
    }
   ],
   "source": [
    "stops_gdf"
   ]
  },
  {
   "cell_type": "code",
   "execution_count": 18,
   "id": "358e0ee9",
   "metadata": {},
   "outputs": [],
   "source": [
    "stops_gdf.set_index('stop_id', inplace=True)"
   ]
  },
  {
   "cell_type": "code",
   "execution_count": 19,
   "id": "454dff33",
   "metadata": {},
   "outputs": [
    {
     "data": {
      "text/html": [
       "<div>\n",
       "<style scoped>\n",
       "    .dataframe tbody tr th:only-of-type {\n",
       "        vertical-align: middle;\n",
       "    }\n",
       "\n",
       "    .dataframe tbody tr th {\n",
       "        vertical-align: top;\n",
       "    }\n",
       "\n",
       "    .dataframe thead th {\n",
       "        text-align: right;\n",
       "    }\n",
       "</style>\n",
       "<table border=\"1\" class=\"dataframe\">\n",
       "  <thead>\n",
       "    <tr style=\"text-align: right;\">\n",
       "      <th></th>\n",
       "      <th>trip_id</th>\n",
       "      <th>arrival_time</th>\n",
       "      <th>departure_time</th>\n",
       "      <th>stop_id</th>\n",
       "      <th>stop_sequence</th>\n",
       "      <th>route_id</th>\n",
       "      <th>service_id</th>\n",
       "      <th>trip_headsign</th>\n",
       "      <th>agency_id</th>\n",
       "      <th>route_short_name</th>\n",
       "      <th>route_long_name</th>\n",
       "      <th>route_type</th>\n",
       "    </tr>\n",
       "  </thead>\n",
       "  <tbody>\n",
       "    <tr>\n",
       "      <th>12</th>\n",
       "      <td>Banana_Ban1_1001</td>\n",
       "      <td>00:00:00</td>\n",
       "      <td>00:00:00</td>\n",
       "      <td>Stop_BeachSouth</td>\n",
       "      <td>1</td>\n",
       "      <td>BananaBus1</td>\n",
       "      <td>Weekdays</td>\n",
       "      <td>Westbound</td>\n",
       "      <td>BananaBuses</td>\n",
       "      <td>Ban1</td>\n",
       "      <td>The Beach &lt;-&gt; Island City</td>\n",
       "      <td>3</td>\n",
       "    </tr>\n",
       "    <tr>\n",
       "      <th>13</th>\n",
       "      <td>Banana_Ban1_1001</td>\n",
       "      <td>00:05:00</td>\n",
       "      <td>00:07:00</td>\n",
       "      <td>Stop_BambooCross</td>\n",
       "      <td>2</td>\n",
       "      <td>BananaBus1</td>\n",
       "      <td>Weekdays</td>\n",
       "      <td>Westbound</td>\n",
       "      <td>BananaBuses</td>\n",
       "      <td>Ban1</td>\n",
       "      <td>The Beach &lt;-&gt; Island City</td>\n",
       "      <td>3</td>\n",
       "    </tr>\n",
       "    <tr>\n",
       "      <th>14</th>\n",
       "      <td>Banana_Ban1_1001</td>\n",
       "      <td>00:15:00</td>\n",
       "      <td>00:15:00</td>\n",
       "      <td>Stop_IslandCity</td>\n",
       "      <td>3</td>\n",
       "      <td>BananaBus1</td>\n",
       "      <td>Weekdays</td>\n",
       "      <td>Westbound</td>\n",
       "      <td>BananaBuses</td>\n",
       "      <td>Ban1</td>\n",
       "      <td>The Beach &lt;-&gt; Island City</td>\n",
       "      <td>3</td>\n",
       "    </tr>\n",
       "    <tr>\n",
       "      <th>15</th>\n",
       "      <td>Banana_Ban1_1002</td>\n",
       "      <td>00:00:00</td>\n",
       "      <td>00:00:00</td>\n",
       "      <td>Stop_IslandCity</td>\n",
       "      <td>1</td>\n",
       "      <td>BananaBus1</td>\n",
       "      <td>Weekdays</td>\n",
       "      <td>Eastbound</td>\n",
       "      <td>BananaBuses</td>\n",
       "      <td>Ban1</td>\n",
       "      <td>The Beach &lt;-&gt; Island City</td>\n",
       "      <td>3</td>\n",
       "    </tr>\n",
       "    <tr>\n",
       "      <th>16</th>\n",
       "      <td>Banana_Ban1_1002</td>\n",
       "      <td>00:08:00</td>\n",
       "      <td>00:10:00</td>\n",
       "      <td>Stop_BambooCross</td>\n",
       "      <td>2</td>\n",
       "      <td>BananaBus1</td>\n",
       "      <td>Weekdays</td>\n",
       "      <td>Eastbound</td>\n",
       "      <td>BananaBuses</td>\n",
       "      <td>Ban1</td>\n",
       "      <td>The Beach &lt;-&gt; Island City</td>\n",
       "      <td>3</td>\n",
       "    </tr>\n",
       "  </tbody>\n",
       "</table>\n",
       "</div>"
      ],
      "text/plain": [
       "             trip_id arrival_time departure_time           stop_id  \\\n",
       "12  Banana_Ban1_1001     00:00:00       00:00:00   Stop_BeachSouth   \n",
       "13  Banana_Ban1_1001     00:05:00       00:07:00  Stop_BambooCross   \n",
       "14  Banana_Ban1_1001     00:15:00       00:15:00   Stop_IslandCity   \n",
       "15  Banana_Ban1_1002     00:00:00       00:00:00   Stop_IslandCity   \n",
       "16  Banana_Ban1_1002     00:08:00       00:10:00  Stop_BambooCross   \n",
       "\n",
       "    stop_sequence    route_id service_id trip_headsign    agency_id  \\\n",
       "12              1  BananaBus1   Weekdays     Westbound  BananaBuses   \n",
       "13              2  BananaBus1   Weekdays     Westbound  BananaBuses   \n",
       "14              3  BananaBus1   Weekdays     Westbound  BananaBuses   \n",
       "15              1  BananaBus1   Weekdays     Eastbound  BananaBuses   \n",
       "16              2  BananaBus1   Weekdays     Eastbound  BananaBuses   \n",
       "\n",
       "   route_short_name            route_long_name  route_type  \n",
       "12             Ban1  The Beach <-> Island City           3  \n",
       "13             Ban1  The Beach <-> Island City           3  \n",
       "14             Ban1  The Beach <-> Island City           3  \n",
       "15             Ban1  The Beach <-> Island City           3  \n",
       "16             Ban1  The Beach <-> Island City           3  "
      ]
     },
     "execution_count": 19,
     "metadata": {},
     "output_type": "execute_result"
    }
   ],
   "source": [
    "all_routes_sorted = stop_route_merge.sort_values(by=['trip_id', 'stop_sequence'])\n",
    "all_routes_sorted.head(5)"
   ]
  },
  {
   "cell_type": "code",
   "execution_count": 20,
   "id": "2b393d7e",
   "metadata": {},
   "outputs": [],
   "source": [
    "lines = stop_route_merge.groupby('trip_id').apply(lambda group: LineString(stops_gdf.loc[group.stop_id].geometry.tolist()))"
   ]
  },
  {
   "cell_type": "code",
   "execution_count": 21,
   "id": "3d2b2b91",
   "metadata": {},
   "outputs": [
    {
     "data": {
      "text/html": [
       "<div>\n",
       "<style scoped>\n",
       "    .dataframe tbody tr th:only-of-type {\n",
       "        vertical-align: middle;\n",
       "    }\n",
       "\n",
       "    .dataframe tbody tr th {\n",
       "        vertical-align: top;\n",
       "    }\n",
       "\n",
       "    .dataframe thead th {\n",
       "        text-align: right;\n",
       "    }\n",
       "</style>\n",
       "<table border=\"1\" class=\"dataframe\">\n",
       "  <thead>\n",
       "    <tr style=\"text-align: right;\">\n",
       "      <th></th>\n",
       "      <th>geometry</th>\n",
       "    </tr>\n",
       "    <tr>\n",
       "      <th>trip_id</th>\n",
       "      <th></th>\n",
       "    </tr>\n",
       "  </thead>\n",
       "  <tbody>\n",
       "    <tr>\n",
       "      <th>Banana_Ban1_1001</th>\n",
       "      <td>LINESTRING (-178.96698 49.40350, -179.11574 49...</td>\n",
       "    </tr>\n",
       "    <tr>\n",
       "      <th>Banana_Ban1_1002</th>\n",
       "      <td>LINESTRING (-179.28057 49.71280, -179.11574 49...</td>\n",
       "    </tr>\n",
       "    <tr>\n",
       "      <th>Banana_Ban2_1001</th>\n",
       "      <td>LINESTRING (-178.96698 49.40350, -179.11574 49...</td>\n",
       "    </tr>\n",
       "    <tr>\n",
       "      <th>Banana_Ban2_1002</th>\n",
       "      <td>LINESTRING (179.86694 49.46280, -179.11574 49....</td>\n",
       "    </tr>\n",
       "    <tr>\n",
       "      <th>Waterfall_0001</th>\n",
       "      <td>LINESTRING (-178.97543 49.49303, -179.28057 49...</td>\n",
       "    </tr>\n",
       "    <tr>\n",
       "      <th>Waterfall_0002</th>\n",
       "      <td>LINESTRING (-179.28057 49.71280, -178.97543 49...</td>\n",
       "    </tr>\n",
       "    <tr>\n",
       "      <th>Waterfall_0003</th>\n",
       "      <td>LINESTRING (-178.97543 49.49303, -179.28057 49...</td>\n",
       "    </tr>\n",
       "    <tr>\n",
       "      <th>Waterfall_0004</th>\n",
       "      <td>LINESTRING (-179.28057 49.71280, -178.97543 49...</td>\n",
       "    </tr>\n",
       "    <tr>\n",
       "      <th>Waterfall_0005</th>\n",
       "      <td>LINESTRING (-178.97543 49.49303, -179.28057 49...</td>\n",
       "    </tr>\n",
       "    <tr>\n",
       "      <th>Waterfall_0006</th>\n",
       "      <td>LINESTRING (-179.28057 49.71280, -178.97543 49...</td>\n",
       "    </tr>\n",
       "  </tbody>\n",
       "</table>\n",
       "</div>"
      ],
      "text/plain": [
       "                                                           geometry\n",
       "trip_id                                                            \n",
       "Banana_Ban1_1001  LINESTRING (-178.96698 49.40350, -179.11574 49...\n",
       "Banana_Ban1_1002  LINESTRING (-179.28057 49.71280, -179.11574 49...\n",
       "Banana_Ban2_1001  LINESTRING (-178.96698 49.40350, -179.11574 49...\n",
       "Banana_Ban2_1002  LINESTRING (179.86694 49.46280, -179.11574 49....\n",
       "Waterfall_0001    LINESTRING (-178.97543 49.49303, -179.28057 49...\n",
       "Waterfall_0002    LINESTRING (-179.28057 49.71280, -178.97543 49...\n",
       "Waterfall_0003    LINESTRING (-178.97543 49.49303, -179.28057 49...\n",
       "Waterfall_0004    LINESTRING (-179.28057 49.71280, -178.97543 49...\n",
       "Waterfall_0005    LINESTRING (-178.97543 49.49303, -179.28057 49...\n",
       "Waterfall_0006    LINESTRING (-179.28057 49.71280, -178.97543 49..."
      ]
     },
     "execution_count": 21,
     "metadata": {},
     "output_type": "execute_result"
    }
   ],
   "source": [
    "lines_gdf = gpd.GeoDataFrame(geometry=lines)\n",
    "lines_gdf"
   ]
  },
  {
   "cell_type": "code",
   "execution_count": 22,
   "id": "b1f3b5c6",
   "metadata": {},
   "outputs": [],
   "source": [
    "stops_gdf.reset_index(inplace=True)"
   ]
  },
  {
   "cell_type": "code",
   "execution_count": 23,
   "id": "4a971c32",
   "metadata": {},
   "outputs": [
    {
     "data": {
      "image/png": "[encoded data removed]",
      "text/plain": [
       "<Figure size 5000x500 with 1 Axes>"
      ]
     },
     "metadata": {},
     "output_type": "display_data"
    }
   ],
   "source": [
    "fig, ax = plt.subplots(figsize=(50,5))\n",
    "ax.set_aspect('equal', 'box')\n",
    "\n",
    "colors_lines = plt.cm.viridis(np.linspace(0, 1, len(lines_gdf)))\n",
    "\n",
    "line_labels = []\n",
    "for counter, (idx, row) in enumerate(lines_gdf.iterrows()):\n",
    "    line_gdf = gpd.GeoDataFrame(geometry=[row['geometry']])\n",
    "    line_gdf.plot(ax=ax, color=colors_lines[counter], linewidth=2.0)\n",
    "    line_labels.append(idx)\n",
    "\n",
    "line_legend = [Line2D([0], [0], color=color, lw=2) for color in colors_lines]\n",
    "ax.legend(line_legend, line_labels, title='Lines', loc='upper right')\n",
    "\n",
    "# color-coding and labeling stops\n",
    "unique_stops = stops_gdf['stop_id'].unique()\n",
    "colors_stops = plt.cm.rainbow(np.linspace(0, 1, len(unique_stops)))\n",
    "stop_colors = {stop: color for stop, color in zip(unique_stops, colors_stops)}\n",
    "stops_gdf['colors'] = stops_gdf['stop_id'].map(stop_colors)\n",
    "stops_gdf.plot(ax=ax, color=stops_gdf['colors'], markersize=50)\n",
    "\n",
    "# labeling stops on the chart\n",
    "for _, row in stops_gdf.iterrows():\n",
    "    ax.text(row['geometry'].x, row['geometry'].y, row['stop_id'], fontsize=10, verticalalignment='bottom')\n",
    "\n",
    "aspect_ratio = 500\n",
    "ax.set_aspect(aspect_ratio)\n",
    "\n",
    "plt.show()\n",
    "fig.savefig('maps/large_map.png')"
   ]
  },
  {
   "cell_type": "markdown",
   "id": "6138f205",
   "metadata": {},
   "source": [
    "The Haunted Jungle is very far away.\n",
    "\n",
    "1 degree of Longitude change is approximately 288,200 feet of spherical distance.\n",
    "1 degree of Latitude change is approximately 364,000 feet of spherical distance.\n",
    "\n",
    "For people looking to travel from South Beach to Island city, they'll have to travel about .3 degrees of latitude. This is equivalent to about 109200 feet (~21 miles). However if you're at Bamboo Cross and you want to get to the Haunted Jungle, you better not forget to pack a lunch.\n",
    "\n",
    "The distance between Bamboo Cross and the Haunted Jungle is 358 degree of longitude (24,716 miles), spanning approximately the entire earth (assuming this is earth)."
   ]
  },
  {
   "cell_type": "markdown",
   "id": "a0906722",
   "metadata": {},
   "source": [
    "### Zoomed-in Map\n",
    "\n",
    "If you'll notice, in the above plot, not all of the routes are visible. This is because of the aspect ratio that I used. While the aspect ratio allowed me to show each stop and line within the frame, it compressed the necessary information into a smaller frame and caused some of the features to overlap. Below is the same plot, but the x axis is clipped at -150 latitude."
   ]
  },
  {
   "cell_type": "code",
   "execution_count": 24,
   "id": "a742d969",
   "metadata": {
    "scrolled": true
   },
   "outputs": [
    {
     "data": {
      "image/png": "[encoded data removed]",
      "text/plain": [
       "<Figure size 600x300 with 1 Axes>"
      ]
     },
     "metadata": {},
     "output_type": "display_data"
    }
   ],
   "source": [
    "fig, ax = plt.subplots(figsize=(6,3))\n",
    "\n",
    "# color coding lines\n",
    "colors_lines = plt.cm.twilight(np.linspace(0, 1, len(lines_gdf)))\n",
    "line_labels = []\n",
    "for counter, (idx, row) in enumerate(lines_gdf.iterrows()):\n",
    "    line_gdf = gpd.GeoDataFrame(geometry=[row['geometry']])\n",
    "    line_gdf.plot(ax=ax, color=colors_lines[counter], linewidth=1.0)\n",
    "    line_labels.append(idx)\n",
    "\n",
    "stop_legend = [Line2D([0], [0], marker='o', color='w', markerfacecolor=stop_colors[stop], markersize=5) \n",
    "               for stop in unique_stops]\n",
    "ax.legend(stop_legend, unique_stops, title='Stops', loc='upper right',fontsize =8)\n",
    "\n",
    "# color coding/ labeling stops\n",
    "unique_stops = stops_gdf['stop_id'].unique()\n",
    "colors_stops = plt.cm.rainbow(np.linspace(0, 1, len(unique_stops)))\n",
    "stop_colors = {stop: color for stop, color in zip(unique_stops, colors_stops)}\n",
    "stops_gdf['colors'] = stops_gdf['stop_id'].map(stop_colors)\n",
    "stops_gdf.plot(ax=ax, color=stops_gdf['colors'], markersize=50)\n",
    "\n",
    "# for _, row in stops_gdf.iterrows():\n",
    "#     ax.text(row['geometry'].x, row['geometry'].y, row['stop_id'], fontsize=10, verticalalignment='bottom',transform=ax.transAxes)\n",
    "\n",
    "# aspect_ratio = 500\n",
    "ax.set_aspect('auto')\n",
    "\n",
    "ax.set_xlim([-179.3, -178.9])\n",
    "ax.set_ylim([49.35, 49.75])\n",
    "ax.set_xticks(ax.get_xticks())\n",
    "ax.set_xticklabels(ax.get_xticklabels(), rotation=10)\n",
    "\n",
    "plt.show()\n",
    "fig.savefig('maps/zoomed_map.png')"
   ]
  },
  {
   "cell_type": "markdown",
   "id": "4ff62de8",
   "metadata": {},
   "source": [
    "This shows how the stops are arranged in better detail than the first image. Now we can see that the trip from beach north to bamboo cross or to beach south is more difficult than it first seemed."
   ]
  },
  {
   "cell_type": "markdown",
   "id": "9de9c0b6",
   "metadata": {},
   "source": [
    "Now that we have a better sense of the layout of everything, let's look at the problems."
   ]
  },
  {
   "cell_type": "markdown",
   "id": "d1d92373",
   "metadata": {},
   "source": [
    "## Problems"
   ]
  },
  {
   "cell_type": "markdown",
   "id": "6cae5acf",
   "metadata": {},
   "source": [
    "**1. The Waterfall Railway is the suggested route for getting from The Beach to\n",
    "Island City. But during Monsoon season, many people living on the southern\n",
    "end of the beach say they prefer Banana Buses. By looking at the data, can\n",
    "you suggest why this might be?**\n"
   ]
  },
  {
   "cell_type": "markdown",
   "id": "7f72457b",
   "metadata": {},
   "source": [
    "Monsoon means rain. A lot of it and, potentially, unexpectedly. If people are opting to take the lesser of two routes, they must be doing so for good reason. If I had to choose between getting to my destination on time and wet or 10 minutes late and dry, I'm choosing the latter."
   ]
  },
  {
   "cell_type": "code",
   "execution_count": 36,
   "id": "7e4ce60a",
   "metadata": {},
   "outputs": [
    {
     "data": {
      "image/png": "[encoded data removed]",
      "text/plain": [
       "<IPython.core.display.Image object>"
      ]
     },
     "execution_count": 36,
     "metadata": {},
     "output_type": "execute_result"
    }
   ],
   "source": [
    "Image(filename='maps/zoomed_map.png')"
   ]
  },
  {
   "cell_type": "markdown",
   "id": "0e318b9d",
   "metadata": {},
   "source": [
    "From the map we discussed above, we can see that the journey from the southern end of the beach to Island City (purple) is more complicated than if you were coming from the north end of the beach (blue). People heading to the city from the south end of the beach (red) are served by only the Banana buses which originate and terminate at one station (Beach south stop)."
   ]
  },
  {
   "cell_type": "markdown",
   "id": "53f8039c",
   "metadata": {},
   "source": [
    "During monsoon season, the walk from the south end of the beach to the north end to catch the direct waterfall line into the city might be too long for most people. Additionally, the Banana buses serve the Beach South stop more frequently."
   ]
  },
  {
   "cell_type": "markdown",
   "id": "332a7fa1",
   "metadata": {},
   "source": [
    "Let's check to see how often both transit lines operate at the southern most stop on the island and verify if the transit frequency at the stop could be a potential cause for this behavior"
   ]
  },
  {
   "cell_type": "code",
   "execution_count": 32,
   "id": "728c0477",
   "metadata": {},
   "outputs": [
    {
     "data": {
      "text/plain": [
       "'Stop_BeachSouth'"
      ]
     },
     "execution_count": 32,
     "metadata": {},
     "output_type": "execute_result"
    }
   ],
   "source": [
    "stop_id = feed.stops['stop_id'][4]\n",
    "stop_id"
   ]
  },
  {
   "cell_type": "markdown",
   "id": "e6ced83c",
   "metadata": {},
   "source": [
    "In the code provided in the mapping stage of this analysis, we created a variable called 'stop_route_merge', which is a merged version of stop times and routes. Let's use this df to look at the time between stops at the BeachSouth Stop.\n",
    "\n",
    "This dataframe is long, so first we'll have to specify only the south stop."
   ]
  },
  {
   "cell_type": "code",
   "execution_count": 33,
   "id": "1e503ab5",
   "metadata": {},
   "outputs": [
    {
     "data": {
      "text/html": [
       "<div>\n",
       "<style scoped>\n",
       "    .dataframe tbody tr th:only-of-type {\n",
       "        vertical-align: middle;\n",
       "    }\n",
       "\n",
       "    .dataframe tbody tr th {\n",
       "        vertical-align: top;\n",
       "    }\n",
       "\n",
       "    .dataframe thead th {\n",
       "        text-align: right;\n",
       "    }\n",
       "</style>\n",
       "<table border=\"1\" class=\"dataframe\">\n",
       "  <thead>\n",
       "    <tr style=\"text-align: right;\">\n",
       "      <th></th>\n",
       "      <th>trip_id</th>\n",
       "      <th>trip_headsign</th>\n",
       "      <th>arrival_time</th>\n",
       "    </tr>\n",
       "  </thead>\n",
       "  <tbody>\n",
       "    <tr>\n",
       "      <th>12</th>\n",
       "      <td>Banana_Ban1_1001</td>\n",
       "      <td>Westbound</td>\n",
       "      <td>00:00:00</td>\n",
       "    </tr>\n",
       "    <tr>\n",
       "      <th>17</th>\n",
       "      <td>Banana_Ban1_1002</td>\n",
       "      <td>Eastbound</td>\n",
       "      <td>00:15:00</td>\n",
       "    </tr>\n",
       "    <tr>\n",
       "      <th>18</th>\n",
       "      <td>Banana_Ban2_1001</td>\n",
       "      <td>Westbound</td>\n",
       "      <td>00:00:00</td>\n",
       "    </tr>\n",
       "    <tr>\n",
       "      <th>23</th>\n",
       "      <td>Banana_Ban2_1002</td>\n",
       "      <td>Eastbound</td>\n",
       "      <td>00:20:00</td>\n",
       "    </tr>\n",
       "  </tbody>\n",
       "</table>\n",
       "</div>"
      ],
      "text/plain": [
       "             trip_id trip_headsign arrival_time\n",
       "12  Banana_Ban1_1001     Westbound     00:00:00\n",
       "17  Banana_Ban1_1002     Eastbound     00:15:00\n",
       "18  Banana_Ban2_1001     Westbound     00:00:00\n",
       "23  Banana_Ban2_1002     Eastbound     00:20:00"
      ]
     },
     "execution_count": 33,
     "metadata": {},
     "output_type": "execute_result"
    }
   ],
   "source": [
    "freq_check = stop_route_merge[stop_route_merge['stop_id'] == stop_id]\n",
    "freq_check[['trip_id','trip_headsign','arrival_time']]"
   ]
  },
  {
   "cell_type": "markdown",
   "id": "8f38f143",
   "metadata": {},
   "source": [
    "I'm interpretting this data to mean that there's a bus that arrives at BeachSouth heading westbound every 15 minutes"
   ]
  },
  {
   "cell_type": "code",
   "execution_count": 34,
   "id": "7ccfa2a6",
   "metadata": {},
   "outputs": [],
   "source": [
    "timetable = stop_route_merge[(stop_route_merge['trip_headsign'] == 'Westbound') | (stop_route_merge['trip_headsign'] =='Island City') | (stop_route_merge['trip_headsign'] =='Island City') ]\n",
    "freq_df = timetable.pivot_table(index=\"stop_id\", columns=\"route_id\", values=\"departure_time\", aggfunc=list).reset_index()"
   ]
  },
  {
   "cell_type": "code",
   "execution_count": 35,
   "id": "efed782a",
   "metadata": {},
   "outputs": [
    {
     "data": {
      "text/html": [
       "<div>\n",
       "<style scoped>\n",
       "    .dataframe tbody tr th:only-of-type {\n",
       "        vertical-align: middle;\n",
       "    }\n",
       "\n",
       "    .dataframe tbody tr th {\n",
       "        vertical-align: top;\n",
       "    }\n",
       "\n",
       "    .dataframe thead th {\n",
       "        text-align: right;\n",
       "    }\n",
       "</style>\n",
       "<table border=\"1\" class=\"dataframe\">\n",
       "  <thead>\n",
       "    <tr style=\"text-align: right;\">\n",
       "      <th>route_id</th>\n",
       "      <th>stop_id</th>\n",
       "      <th>BananaBus1</th>\n",
       "      <th>BananaBus2</th>\n",
       "      <th>Waterfall1</th>\n",
       "    </tr>\n",
       "  </thead>\n",
       "  <tbody>\n",
       "    <tr>\n",
       "      <th>0</th>\n",
       "      <td>Stop_BambooCross</td>\n",
       "      <td>[00:07:00]</td>\n",
       "      <td>[00:07:00]</td>\n",
       "      <td>NaN</td>\n",
       "    </tr>\n",
       "    <tr>\n",
       "      <th>1</th>\n",
       "      <td>Stop_BeachNorth</td>\n",
       "      <td>NaN</td>\n",
       "      <td>NaN</td>\n",
       "      <td>[14:00:00, 14:15:00, 14:30:00]</td>\n",
       "    </tr>\n",
       "    <tr>\n",
       "      <th>2</th>\n",
       "      <td>Stop_BeachSouth</td>\n",
       "      <td>[00:00:00]</td>\n",
       "      <td>[00:00:00]</td>\n",
       "      <td>NaN</td>\n",
       "    </tr>\n",
       "    <tr>\n",
       "      <th>3</th>\n",
       "      <td>Stop_HauntedJungle</td>\n",
       "      <td>NaN</td>\n",
       "      <td>[00:20:00]</td>\n",
       "      <td>NaN</td>\n",
       "    </tr>\n",
       "    <tr>\n",
       "      <th>4</th>\n",
       "      <td>Stop_IslandCity</td>\n",
       "      <td>[00:15:00]</td>\n",
       "      <td>NaN</td>\n",
       "      <td>[14:15:00, 14:30:00, 14:45:00]</td>\n",
       "    </tr>\n",
       "  </tbody>\n",
       "</table>\n",
       "</div>"
      ],
      "text/plain": [
       "route_id             stop_id  BananaBus1  BananaBus2  \\\n",
       "0           Stop_BambooCross  [00:07:00]  [00:07:00]   \n",
       "1            Stop_BeachNorth         NaN         NaN   \n",
       "2            Stop_BeachSouth  [00:00:00]  [00:00:00]   \n",
       "3         Stop_HauntedJungle         NaN  [00:20:00]   \n",
       "4            Stop_IslandCity  [00:15:00]         NaN   \n",
       "\n",
       "route_id                      Waterfall1  \n",
       "0                                    NaN  \n",
       "1         [14:00:00, 14:15:00, 14:30:00]  \n",
       "2                                    NaN  \n",
       "3                                    NaN  \n",
       "4         [14:15:00, 14:30:00, 14:45:00]  "
      ]
     },
     "execution_count": 35,
     "metadata": {},
     "output_type": "execute_result"
    }
   ],
   "source": [
    "freq_df"
   ]
  },
  {
   "cell_type": "markdown",
   "id": "dd48edaa",
   "metadata": {},
   "source": [
    "This shows us that the Waterfall line from BeachNorth to the city arrives every 15 minutes and the Beach South stop is served at 0:00 and 0:20. Unless I'm misinterpretting this data, as the stated headway for each line in the frequency data is 600s (10 minutes). In this case, the frequency would remain equal between the two stops."
   ]
  },
  {
   "cell_type": "markdown",
   "id": "9973534a",
   "metadata": {},
   "source": [
    "**Answer:**  It appears that people on the south end of the beach prefer the Banana bus over the more direct Waterfall line because it is closer and requires less walking in the rain. The closest stop from the Beach South station that provides a direct route to the city is the Beach North stop, which is ~.1 degrees of latitude away (6.9 miles). Much too far to walk and probably not very comfortable to bike to in the rain."
   ]
  },
  {
   "cell_type": "markdown",
   "id": "8ebf78c9",
   "metadata": {},
   "source": [
    "**2.  Many people catching Banana Buses from the beach find themselves\n",
    "accidentally catching the wrong one and ending up in the Haunted Jungle\n",
    "instead. What could be improved in the data to help prevent this, and what\n",
    "specifically would you change?**\n"
   ]
  },
  {
   "cell_type": "markdown",
   "id": "990b5d98",
   "metadata": {},
   "source": [
    "As we see in the timetable dataframe I created previously:"
   ]
  },
  {
   "cell_type": "code",
   "execution_count": 181,
   "id": "a79e677c",
   "metadata": {},
   "outputs": [],
   "source": [
    "timetable = stop_route_merge[(stop_route_merge['route_long_name'] == 'The Beach <-> Island City')]\n",
    "freq_df = timetable.pivot_table(index=\"stop_id\", columns=\"route_id\", values=\"departure_time\", aggfunc=list).reset_index()"
   ]
  },
  {
   "cell_type": "code",
   "execution_count": 182,
   "id": "bf9fc924",
   "metadata": {},
   "outputs": [
    {
     "data": {
      "text/html": [
       "<div>\n",
       "<style scoped>\n",
       "    .dataframe tbody tr th:only-of-type {\n",
       "        vertical-align: middle;\n",
       "    }\n",
       "\n",
       "    .dataframe tbody tr th {\n",
       "        vertical-align: top;\n",
       "    }\n",
       "\n",
       "    .dataframe thead th {\n",
       "        text-align: right;\n",
       "    }\n",
       "</style>\n",
       "<table border=\"1\" class=\"dataframe\">\n",
       "  <thead>\n",
       "    <tr style=\"text-align: right;\">\n",
       "      <th>route_id</th>\n",
       "      <th>stop_id</th>\n",
       "      <th>BananaBus1</th>\n",
       "      <th>Waterfall1</th>\n",
       "    </tr>\n",
       "  </thead>\n",
       "  <tbody>\n",
       "    <tr>\n",
       "      <th>0</th>\n",
       "      <td>Stop_BambooCross</td>\n",
       "      <td>[00:07:00, 00:10:00]</td>\n",
       "      <td>NaN</td>\n",
       "    </tr>\n",
       "    <tr>\n",
       "      <th>1</th>\n",
       "      <td>Stop_BeachNorth</td>\n",
       "      <td>NaN</td>\n",
       "      <td>[14:00:00, 14:15:00, 14:30:00, 14:20:00, 14:35...</td>\n",
       "    </tr>\n",
       "    <tr>\n",
       "      <th>2</th>\n",
       "      <td>Stop_BeachSouth</td>\n",
       "      <td>[00:00:00, 00:15:00]</td>\n",
       "      <td>NaN</td>\n",
       "    </tr>\n",
       "    <tr>\n",
       "      <th>3</th>\n",
       "      <td>Stop_IslandCity</td>\n",
       "      <td>[00:15:00, 00:00:00]</td>\n",
       "      <td>[14:15:00, 14:30:00, 14:45:00, 14:05:00, 14:20...</td>\n",
       "    </tr>\n",
       "  </tbody>\n",
       "</table>\n",
       "</div>"
      ],
      "text/plain": [
       "route_id           stop_id            BananaBus1  \\\n",
       "0         Stop_BambooCross  [00:07:00, 00:10:00]   \n",
       "1          Stop_BeachNorth                   NaN   \n",
       "2          Stop_BeachSouth  [00:00:00, 00:15:00]   \n",
       "3          Stop_IslandCity  [00:15:00, 00:00:00]   \n",
       "\n",
       "route_id                                         Waterfall1  \n",
       "0                                                       NaN  \n",
       "1         [14:00:00, 14:15:00, 14:30:00, 14:20:00, 14:35...  \n",
       "2                                                       NaN  \n",
       "3         [14:15:00, 14:30:00, 14:45:00, 14:05:00, 14:20...  "
      ]
     },
     "execution_count": 182,
     "metadata": {},
     "output_type": "execute_result"
    }
   ],
   "source": [
    "freq_df"
   ]
  },
  {
   "cell_type": "markdown",
   "id": "4e99870a",
   "metadata": {},
   "source": [
    "Shows the arrival times for all routes at each stop. This uses the route_long_name 'The Beach <-> Island City' which indicates that the route is headed from X to island city."
   ]
  },
  {
   "cell_type": "code",
   "execution_count": 40,
   "id": "b1ba0ed1",
   "metadata": {},
   "outputs": [
    {
     "data": {
      "text/html": [
       "<div>\n",
       "<style scoped>\n",
       "    .dataframe tbody tr th:only-of-type {\n",
       "        vertical-align: middle;\n",
       "    }\n",
       "\n",
       "    .dataframe tbody tr th {\n",
       "        vertical-align: top;\n",
       "    }\n",
       "\n",
       "    .dataframe thead th {\n",
       "        text-align: right;\n",
       "    }\n",
       "</style>\n",
       "<table border=\"1\" class=\"dataframe\">\n",
       "  <thead>\n",
       "    <tr style=\"text-align: right;\">\n",
       "      <th></th>\n",
       "      <th>trip_id</th>\n",
       "      <th>arrival_time</th>\n",
       "      <th>departure_time</th>\n",
       "      <th>stop_id</th>\n",
       "      <th>stop_sequence</th>\n",
       "      <th>route_id</th>\n",
       "      <th>service_id</th>\n",
       "      <th>trip_headsign</th>\n",
       "      <th>agency_id</th>\n",
       "      <th>route_short_name</th>\n",
       "      <th>route_long_name</th>\n",
       "      <th>route_type</th>\n",
       "    </tr>\n",
       "  </thead>\n",
       "  <tbody>\n",
       "    <tr>\n",
       "      <th>18</th>\n",
       "      <td>Banana_Ban2_1001</td>\n",
       "      <td>00:00:00</td>\n",
       "      <td>00:00:00</td>\n",
       "      <td>Stop_BeachSouth</td>\n",
       "      <td>1</td>\n",
       "      <td>BananaBus2</td>\n",
       "      <td>Weekdays</td>\n",
       "      <td>Westbound</td>\n",
       "      <td>BananaBuses</td>\n",
       "      <td>Ban2</td>\n",
       "      <td>The Beach &lt;-&gt; The Haunted Jungle</td>\n",
       "      <td>3</td>\n",
       "    </tr>\n",
       "    <tr>\n",
       "      <th>19</th>\n",
       "      <td>Banana_Ban2_1001</td>\n",
       "      <td>00:05:00</td>\n",
       "      <td>00:07:00</td>\n",
       "      <td>Stop_BambooCross</td>\n",
       "      <td>2</td>\n",
       "      <td>BananaBus2</td>\n",
       "      <td>Weekdays</td>\n",
       "      <td>Westbound</td>\n",
       "      <td>BananaBuses</td>\n",
       "      <td>Ban2</td>\n",
       "      <td>The Beach &lt;-&gt; The Haunted Jungle</td>\n",
       "      <td>3</td>\n",
       "    </tr>\n",
       "    <tr>\n",
       "      <th>20</th>\n",
       "      <td>Banana_Ban2_1001</td>\n",
       "      <td>00:20:00</td>\n",
       "      <td>00:20:00</td>\n",
       "      <td>Stop_HauntedJungle</td>\n",
       "      <td>3</td>\n",
       "      <td>BananaBus2</td>\n",
       "      <td>Weekdays</td>\n",
       "      <td>Westbound</td>\n",
       "      <td>BananaBuses</td>\n",
       "      <td>Ban2</td>\n",
       "      <td>The Beach &lt;-&gt; The Haunted Jungle</td>\n",
       "      <td>3</td>\n",
       "    </tr>\n",
       "    <tr>\n",
       "      <th>21</th>\n",
       "      <td>Banana_Ban2_1002</td>\n",
       "      <td>00:00:00</td>\n",
       "      <td>00:00:00</td>\n",
       "      <td>Stop_HauntedJungle</td>\n",
       "      <td>1</td>\n",
       "      <td>BananaBus2</td>\n",
       "      <td>Weekdays</td>\n",
       "      <td>Eastbound</td>\n",
       "      <td>BananaBuses</td>\n",
       "      <td>Ban2</td>\n",
       "      <td>The Beach &lt;-&gt; The Haunted Jungle</td>\n",
       "      <td>3</td>\n",
       "    </tr>\n",
       "    <tr>\n",
       "      <th>22</th>\n",
       "      <td>Banana_Ban2_1002</td>\n",
       "      <td>00:13:00</td>\n",
       "      <td>00:15:00</td>\n",
       "      <td>Stop_BambooCross</td>\n",
       "      <td>2</td>\n",
       "      <td>BananaBus2</td>\n",
       "      <td>Weekdays</td>\n",
       "      <td>Eastbound</td>\n",
       "      <td>BananaBuses</td>\n",
       "      <td>Ban2</td>\n",
       "      <td>The Beach &lt;-&gt; The Haunted Jungle</td>\n",
       "      <td>3</td>\n",
       "    </tr>\n",
       "    <tr>\n",
       "      <th>23</th>\n",
       "      <td>Banana_Ban2_1002</td>\n",
       "      <td>00:20:00</td>\n",
       "      <td>00:20:00</td>\n",
       "      <td>Stop_BeachSouth</td>\n",
       "      <td>3</td>\n",
       "      <td>BananaBus2</td>\n",
       "      <td>Weekdays</td>\n",
       "      <td>Eastbound</td>\n",
       "      <td>BananaBuses</td>\n",
       "      <td>Ban2</td>\n",
       "      <td>The Beach &lt;-&gt; The Haunted Jungle</td>\n",
       "      <td>3</td>\n",
       "    </tr>\n",
       "  </tbody>\n",
       "</table>\n",
       "</div>"
      ],
      "text/plain": [
       "             trip_id arrival_time departure_time             stop_id  \\\n",
       "18  Banana_Ban2_1001     00:00:00       00:00:00     Stop_BeachSouth   \n",
       "19  Banana_Ban2_1001     00:05:00       00:07:00    Stop_BambooCross   \n",
       "20  Banana_Ban2_1001     00:20:00       00:20:00  Stop_HauntedJungle   \n",
       "21  Banana_Ban2_1002     00:00:00       00:00:00  Stop_HauntedJungle   \n",
       "22  Banana_Ban2_1002     00:13:00       00:15:00    Stop_BambooCross   \n",
       "23  Banana_Ban2_1002     00:20:00       00:20:00     Stop_BeachSouth   \n",
       "\n",
       "    stop_sequence    route_id service_id trip_headsign    agency_id  \\\n",
       "18              1  BananaBus2   Weekdays     Westbound  BananaBuses   \n",
       "19              2  BananaBus2   Weekdays     Westbound  BananaBuses   \n",
       "20              3  BananaBus2   Weekdays     Westbound  BananaBuses   \n",
       "21              1  BananaBus2   Weekdays     Eastbound  BananaBuses   \n",
       "22              2  BananaBus2   Weekdays     Eastbound  BananaBuses   \n",
       "23              3  BananaBus2   Weekdays     Eastbound  BananaBuses   \n",
       "\n",
       "   route_short_name                   route_long_name  route_type  \n",
       "18             Ban2  The Beach <-> The Haunted Jungle           3  \n",
       "19             Ban2  The Beach <-> The Haunted Jungle           3  \n",
       "20             Ban2  The Beach <-> The Haunted Jungle           3  \n",
       "21             Ban2  The Beach <-> The Haunted Jungle           3  \n",
       "22             Ban2  The Beach <-> The Haunted Jungle           3  \n",
       "23             Ban2  The Beach <-> The Haunted Jungle           3  "
      ]
     },
     "execution_count": 40,
     "metadata": {},
     "output_type": "execute_result"
    }
   ],
   "source": [
    "all_routes_sorted[(all_routes_sorted['route_long_name'] == 'The Beach <-> The Haunted Jungle') |(all_routes_sorted['trip_headsign'] == 'Westbound') & (all_routes_sorted['trip_headsign'] == 'Eastbound')]"
   ]
  },
  {
   "cell_type": "markdown",
   "id": "d9625f3a",
   "metadata": {},
   "source": [
    "If we look at the route headed to Island City OR Haunted Jungle, we see:"
   ]
  },
  {
   "cell_type": "code",
   "execution_count": 187,
   "id": "729d5b18",
   "metadata": {},
   "outputs": [],
   "source": [
    "timetable = stop_route_merge[(stop_route_merge['route_long_name'] == 'The Beach <-> Island City') | (stop_route_merge['route_long_name'] == 'The Beach <-> The Haunted Jungle')]\n",
    "freq_df = timetable.pivot_table(index=\"stop_id\", columns=\"route_id\", values=\"departure_time\", aggfunc=list).reset_index()"
   ]
  },
  {
   "cell_type": "code",
   "execution_count": 188,
   "id": "2813eeeb",
   "metadata": {},
   "outputs": [
    {
     "data": {
      "text/html": [
       "<div>\n",
       "<style scoped>\n",
       "    .dataframe tbody tr th:only-of-type {\n",
       "        vertical-align: middle;\n",
       "    }\n",
       "\n",
       "    .dataframe tbody tr th {\n",
       "        vertical-align: top;\n",
       "    }\n",
       "\n",
       "    .dataframe thead th {\n",
       "        text-align: right;\n",
       "    }\n",
       "</style>\n",
       "<table border=\"1\" class=\"dataframe\">\n",
       "  <thead>\n",
       "    <tr style=\"text-align: right;\">\n",
       "      <th>route_id</th>\n",
       "      <th>stop_id</th>\n",
       "      <th>BananaBus1</th>\n",
       "      <th>BananaBus2</th>\n",
       "      <th>Waterfall1</th>\n",
       "    </tr>\n",
       "  </thead>\n",
       "  <tbody>\n",
       "    <tr>\n",
       "      <th>0</th>\n",
       "      <td>Stop_BambooCross</td>\n",
       "      <td>[00:07:00, 00:10:00]</td>\n",
       "      <td>[00:07:00, 00:15:00]</td>\n",
       "      <td>NaN</td>\n",
       "    </tr>\n",
       "    <tr>\n",
       "      <th>1</th>\n",
       "      <td>Stop_BeachNorth</td>\n",
       "      <td>NaN</td>\n",
       "      <td>NaN</td>\n",
       "      <td>[14:00:00, 14:15:00, 14:30:00, 14:20:00, 14:35...</td>\n",
       "    </tr>\n",
       "    <tr>\n",
       "      <th>2</th>\n",
       "      <td>Stop_BeachSouth</td>\n",
       "      <td>[00:00:00, 00:15:00]</td>\n",
       "      <td>[00:00:00, 00:20:00]</td>\n",
       "      <td>NaN</td>\n",
       "    </tr>\n",
       "    <tr>\n",
       "      <th>3</th>\n",
       "      <td>Stop_HauntedJungle</td>\n",
       "      <td>NaN</td>\n",
       "      <td>[00:20:00, 00:00:00]</td>\n",
       "      <td>NaN</td>\n",
       "    </tr>\n",
       "    <tr>\n",
       "      <th>4</th>\n",
       "      <td>Stop_IslandCity</td>\n",
       "      <td>[00:15:00, 00:00:00]</td>\n",
       "      <td>NaN</td>\n",
       "      <td>[14:15:00, 14:30:00, 14:45:00, 14:05:00, 14:20...</td>\n",
       "    </tr>\n",
       "  </tbody>\n",
       "</table>\n",
       "</div>"
      ],
      "text/plain": [
       "route_id             stop_id            BananaBus1            BananaBus2  \\\n",
       "0           Stop_BambooCross  [00:07:00, 00:10:00]  [00:07:00, 00:15:00]   \n",
       "1            Stop_BeachNorth                   NaN                   NaN   \n",
       "2            Stop_BeachSouth  [00:00:00, 00:15:00]  [00:00:00, 00:20:00]   \n",
       "3         Stop_HauntedJungle                   NaN  [00:20:00, 00:00:00]   \n",
       "4            Stop_IslandCity  [00:15:00, 00:00:00]                   NaN   \n",
       "\n",
       "route_id                                         Waterfall1  \n",
       "0                                                       NaN  \n",
       "1         [14:00:00, 14:15:00, 14:30:00, 14:20:00, 14:35...  \n",
       "2                                                       NaN  \n",
       "3                                                       NaN  \n",
       "4         [14:15:00, 14:30:00, 14:45:00, 14:05:00, 14:20...  "
      ]
     },
     "execution_count": 188,
     "metadata": {},
     "output_type": "execute_result"
    }
   ],
   "source": [
    "freq_df"
   ]
  },
  {
   "cell_type": "markdown",
   "id": "97ae865c",
   "metadata": {},
   "source": [
    "We see that there are two buses that arrive at Beach South at 0:00. One heading to the city and one heading to the Jungle. Buses are marked with the headsign 'Eastbound' or 'Westbound'. Additionally, if someone misses the 0:15 bus citybound, they may also try to mistakenly catch the 00:20 bus by mistake and end up in the Haunted Jungle."
   ]
  },
  {
   "cell_type": "markdown",
   "id": "fd0b4af9",
   "metadata": {},
   "source": [
    "**Answer:**  It's understandable how someone might accidentally catch the wrong bus and end up in the Haunted Jungle, as there are two buses that arrive at the station at the same time.\n",
    "\n",
    "To improve this situation, it would be wise to offset the arrival times for both buses and to adjust the headsign wording to make it more clear which destination a passenger would be headed to. It wouldn't hurt to discuss the timing of the additional 00:20 arrival, as offsetting the arrival time for that bus to the Jungle may be advantageous."
   ]
  },
  {
   "cell_type": "markdown",
   "id": "5489cd7e",
   "metadata": {},
   "source": [
    "**3.  The GTFS file specifies Waterfall Railway and Banana Bus schedules in\n",
    "different ways. If you were standing in the middle of The Beach at 14:23,\n",
    "which would you be more likely to see first: a Waterfall Train or a Banana\n",
    "Bus? Explain why you think this, and why you may be wrong.**"
   ]
  },
  {
   "cell_type": "code",
   "execution_count": 191,
   "id": "e60c976a",
   "metadata": {},
   "outputs": [
    {
     "data": {
      "image/png": "[encoded data removed]",
      "text/plain": [
       "<IPython.core.display.Image object>"
      ]
     },
     "execution_count": 191,
     "metadata": {},
     "output_type": "execute_result"
    }
   ],
   "source": [
    "Image(filename='maps/zoomed_map.png')"
   ]
  },
  {
   "cell_type": "markdown",
   "id": "e5632f7a",
   "metadata": {},
   "source": [
    "From the middle of the beach, we can assume we'd be somewhere in near the purple line in the above map. From the frequency table shown below, we can see that there's a train departing Beach North at 14:20 and also at 14:30."
   ]
  },
  {
   "cell_type": "code",
   "execution_count": 194,
   "id": "3945133e",
   "metadata": {},
   "outputs": [
    {
     "data": {
      "text/html": [
       "<div>\n",
       "<style scoped>\n",
       "    .dataframe tbody tr th:only-of-type {\n",
       "        vertical-align: middle;\n",
       "    }\n",
       "\n",
       "    .dataframe tbody tr th {\n",
       "        vertical-align: top;\n",
       "    }\n",
       "\n",
       "    .dataframe thead th {\n",
       "        text-align: right;\n",
       "    }\n",
       "</style>\n",
       "<table border=\"1\" class=\"dataframe\">\n",
       "  <thead>\n",
       "    <tr style=\"text-align: right;\">\n",
       "      <th>route_id</th>\n",
       "      <th>stop_id</th>\n",
       "      <th>BananaBus1</th>\n",
       "      <th>BananaBus2</th>\n",
       "      <th>Waterfall1</th>\n",
       "    </tr>\n",
       "  </thead>\n",
       "  <tbody>\n",
       "    <tr>\n",
       "      <th>0</th>\n",
       "      <td>Stop_BambooCross</td>\n",
       "      <td>[00:07:00, 00:10:00]</td>\n",
       "      <td>[00:07:00, 00:15:00]</td>\n",
       "      <td>NaN</td>\n",
       "    </tr>\n",
       "    <tr>\n",
       "      <th>1</th>\n",
       "      <td>Stop_BeachNorth</td>\n",
       "      <td>NaN</td>\n",
       "      <td>NaN</td>\n",
       "      <td>[14:00:00, 14:15:00, 14:30:00, 14:20:00, 14:35...</td>\n",
       "    </tr>\n",
       "    <tr>\n",
       "      <th>2</th>\n",
       "      <td>Stop_BeachSouth</td>\n",
       "      <td>[00:00:00, 00:15:00]</td>\n",
       "      <td>[00:00:00, 00:20:00]</td>\n",
       "      <td>NaN</td>\n",
       "    </tr>\n",
       "    <tr>\n",
       "      <th>3</th>\n",
       "      <td>Stop_HauntedJungle</td>\n",
       "      <td>NaN</td>\n",
       "      <td>[00:20:00, 00:00:00]</td>\n",
       "      <td>NaN</td>\n",
       "    </tr>\n",
       "    <tr>\n",
       "      <th>4</th>\n",
       "      <td>Stop_IslandCity</td>\n",
       "      <td>[00:15:00, 00:00:00]</td>\n",
       "      <td>NaN</td>\n",
       "      <td>[14:15:00, 14:30:00, 14:45:00, 14:05:00, 14:20...</td>\n",
       "    </tr>\n",
       "  </tbody>\n",
       "</table>\n",
       "</div>"
      ],
      "text/plain": [
       "route_id             stop_id            BananaBus1            BananaBus2  \\\n",
       "0           Stop_BambooCross  [00:07:00, 00:10:00]  [00:07:00, 00:15:00]   \n",
       "1            Stop_BeachNorth                   NaN                   NaN   \n",
       "2            Stop_BeachSouth  [00:00:00, 00:15:00]  [00:00:00, 00:20:00]   \n",
       "3         Stop_HauntedJungle                   NaN  [00:20:00, 00:00:00]   \n",
       "4            Stop_IslandCity  [00:15:00, 00:00:00]                   NaN   \n",
       "\n",
       "route_id                                         Waterfall1  \n",
       "0                                                       NaN  \n",
       "1         [14:00:00, 14:15:00, 14:30:00, 14:20:00, 14:35...  \n",
       "2                                                       NaN  \n",
       "3                                                       NaN  \n",
       "4         [14:15:00, 14:30:00, 14:45:00, 14:05:00, 14:20...  "
      ]
     },
     "execution_count": 194,
     "metadata": {},
     "output_type": "execute_result"
    }
   ],
   "source": [
    "freq_df = stop_route_merge.pivot_table(index=\"stop_id\", columns=\"route_id\", values=\"departure_time\", aggfunc=list).reset_index()\n",
    "freq_df"
   ]
  },
  {
   "cell_type": "markdown",
   "id": "8c177ca2",
   "metadata": {},
   "source": [
    "**Answer:** Because of this, it's reasonable to assume that you'd see a Waterfall train first (either arriving or departing). This is because the Waterfall line specifically states an arrival/departure time of 14:20.  But, as noted in the problem statement, the timing provided in the GTFS data is different for both lines. The Waterfall Train explicitely states a time of arrival, whereas the bus appears to be providing a frequency of arrivals.\n",
    "\n",
    "If we're assuming that the bus line is providing frequency of arrival, based on the timetable shown above the train and bus should be departing the respective stations at the same time (14:20 and 00:20/train)."
   ]
  },
  {
   "cell_type": "markdown",
   "id": "354ff89f",
   "metadata": {},
   "source": [
    "**4. A number of bug reports have come in about the IslandMapper app\n",
    "mysteriously crashing when people enter The Haunted Jungle. Except for\n",
    "ghosts, can you suggest what may be causing the crash by looking at the\n",
    "data and seeing if there's anything special about The Haunted Jungle?**"
   ]
  },
  {
   "cell_type": "code",
   "execution_count": 196,
   "id": "ee74037d",
   "metadata": {},
   "outputs": [
    {
     "data": {
      "image/png": "[encoded data removed]",
      "text/plain": [
       "<IPython.core.display.Image object>"
      ]
     },
     "execution_count": 196,
     "metadata": {},
     "output_type": "execute_result"
    }
   ],
   "source": [
    "Image(filename='maps/large_map.png')"
   ]
  },
  {
   "cell_type": "markdown",
   "id": "0a3d1afb",
   "metadata": {},
   "source": [
    "**Answer:** There may be other reasons for this, but the first thing I notice about the Haunted Jungle is how much further that stop is from the other stops. Specifically, the longitude of the stop is 179.9 which would cross the abs(longitude) of the other stops (~-178). It's possible that the app could get confused as the bus crosses the absolute value of the longitude value it associates with the other stops. \n",
    "\n",
    "There's many assumptions being made regarding the characteristics of this island, but if the train is travelling 360 of longitude, then the time zones would also likely shift as a passenger was riding on the bus. This could also present a potential error within the app that might arise as the bus enters the Haunted Jungle."
   ]
  },
  {
   "cell_type": "markdown",
   "id": "f9cf9bc4",
   "metadata": {},
   "source": [
    "Based on the merged dfs created previously (below), I don't see other explanations for this behavior."
   ]
  },
  {
   "cell_type": "code",
   "execution_count": 41,
   "id": "f10df81f",
   "metadata": {},
   "outputs": [
    {
     "data": {
      "text/html": [
       "<div>\n",
       "<style scoped>\n",
       "    .dataframe tbody tr th:only-of-type {\n",
       "        vertical-align: middle;\n",
       "    }\n",
       "\n",
       "    .dataframe tbody tr th {\n",
       "        vertical-align: top;\n",
       "    }\n",
       "\n",
       "    .dataframe thead th {\n",
       "        text-align: right;\n",
       "    }\n",
       "</style>\n",
       "<table border=\"1\" class=\"dataframe\">\n",
       "  <thead>\n",
       "    <tr style=\"text-align: right;\">\n",
       "      <th></th>\n",
       "      <th>trip_id</th>\n",
       "      <th>arrival_time</th>\n",
       "      <th>departure_time</th>\n",
       "      <th>stop_id</th>\n",
       "      <th>stop_sequence</th>\n",
       "      <th>route_id</th>\n",
       "      <th>service_id</th>\n",
       "      <th>trip_headsign</th>\n",
       "      <th>agency_id</th>\n",
       "      <th>route_short_name</th>\n",
       "      <th>route_long_name</th>\n",
       "      <th>route_type</th>\n",
       "    </tr>\n",
       "  </thead>\n",
       "  <tbody>\n",
       "    <tr>\n",
       "      <th>20</th>\n",
       "      <td>Banana_Ban2_1001</td>\n",
       "      <td>00:20:00</td>\n",
       "      <td>00:20:00</td>\n",
       "      <td>Stop_HauntedJungle</td>\n",
       "      <td>3</td>\n",
       "      <td>BananaBus2</td>\n",
       "      <td>Weekdays</td>\n",
       "      <td>Westbound</td>\n",
       "      <td>BananaBuses</td>\n",
       "      <td>Ban2</td>\n",
       "      <td>The Beach &lt;-&gt; The Haunted Jungle</td>\n",
       "      <td>3</td>\n",
       "    </tr>\n",
       "    <tr>\n",
       "      <th>21</th>\n",
       "      <td>Banana_Ban2_1002</td>\n",
       "      <td>00:00:00</td>\n",
       "      <td>00:00:00</td>\n",
       "      <td>Stop_HauntedJungle</td>\n",
       "      <td>1</td>\n",
       "      <td>BananaBus2</td>\n",
       "      <td>Weekdays</td>\n",
       "      <td>Eastbound</td>\n",
       "      <td>BananaBuses</td>\n",
       "      <td>Ban2</td>\n",
       "      <td>The Beach &lt;-&gt; The Haunted Jungle</td>\n",
       "      <td>3</td>\n",
       "    </tr>\n",
       "  </tbody>\n",
       "</table>\n",
       "</div>"
      ],
      "text/plain": [
       "             trip_id arrival_time departure_time             stop_id  \\\n",
       "20  Banana_Ban2_1001     00:20:00       00:20:00  Stop_HauntedJungle   \n",
       "21  Banana_Ban2_1002     00:00:00       00:00:00  Stop_HauntedJungle   \n",
       "\n",
       "    stop_sequence    route_id service_id trip_headsign    agency_id  \\\n",
       "20              3  BananaBus2   Weekdays     Westbound  BananaBuses   \n",
       "21              1  BananaBus2   Weekdays     Eastbound  BananaBuses   \n",
       "\n",
       "   route_short_name                   route_long_name  route_type  \n",
       "20             Ban2  The Beach <-> The Haunted Jungle           3  \n",
       "21             Ban2  The Beach <-> The Haunted Jungle           3  "
      ]
     },
     "execution_count": 41,
     "metadata": {},
     "output_type": "execute_result"
    }
   ],
   "source": [
    "stop_route_merge[stop_route_merge['stop_id']=='Stop_HauntedJungle']"
   ]
  },
  {
   "cell_type": "code",
   "execution_count": null,
   "id": "c39476bb",
   "metadata": {},
   "outputs": [],
   "source": []
  }
 ],
 "metadata": {
  "kernelspec": {
   "display_name": "Python 3 (ipykernel)",
   "language": "python",
   "name": "python3"
  },
  "language_info": {
   "codemirror_mode": {
    "name": "ipython",
    "version": 3
   },
   "file_extension": ".py",
   "mimetype": "text/x-python",
   "name": "python",
   "nbconvert_exporter": "python",
   "pygments_lexer": "ipython3",
   "version": "3.10.9"
  }
 },
 "nbformat": 4,
 "nbformat_minor": 5
}
